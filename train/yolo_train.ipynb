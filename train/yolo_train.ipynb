{
 "cells": [
  {
   "cell_type": "code",
   "execution_count": null,
   "id": "f150e37f-446a-42d9-85e3-addfc7e865b9",
   "metadata": {},
   "outputs": [],
   "source": [
    "from ultralytics import YOLO\n",
    "\n",
    "# Загружаем предобученную модель YOLOv8m\n",
    "model = YOLO(\"yolov8m.pt\")\n",
    "\n",
    "# Обучение модели\n",
    "model.train(\n",
    "    data=\"path/to/your/data.yaml\",  # Укажи путь к своему YAML файлу\n",
    "    epochs=100,\n",
    "    imgsz=960,             # Ближайшее кратное 32 к твоим 990x708\n",
    "    batch=8,               # Оптимально под RTX 4060\n",
    "    lr0=0.001,             # Начальный learning rate\n",
    "    weight_decay=0.001,    # Регуляризация\n",
    "    warmup_epochs=3,\n",
    "    patience=20,           # Ранняя остановка\n",
    "    mosaic=0.5,            # Умеренный микс изображений\n",
    "    hsv_h=0.015,\n",
    "    hsv_s=0.7,\n",
    "    hsv_v=0.4,\n",
    "    degrees=0.0,\n",
    "    scale=0.5,\n",
    "    translate=0.1,\n",
    "    flipud=0.0,\n",
    "    fliplr=0.5,\n",
    "    name=\"my_yolo_custom_model\",\n",
    "    pretrained=True,       # Используем предобученные веса\n",
    "    resume=False           # Начать с нуля (True, если хочешь продолжить)\n",
    ")"
   ]
  }
 ],
 "metadata": {
  "kernelspec": {
   "display_name": "Python 3 (ipykernel)",
   "language": "python",
   "name": "python3"
  },
  "language_info": {
   "codemirror_mode": {
    "name": "ipython",
    "version": 3
   },
   "file_extension": ".py",
   "mimetype": "text/x-python",
   "name": "python",
   "nbconvert_exporter": "python",
   "pygments_lexer": "ipython3",
   "version": "3.12.7"
  }
 },
 "nbformat": 4,
 "nbformat_minor": 5
}
